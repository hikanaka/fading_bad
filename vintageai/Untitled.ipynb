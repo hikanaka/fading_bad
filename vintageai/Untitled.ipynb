{
 "cells": [
  {
   "cell_type": "code",
   "execution_count": 19,
   "metadata": {
    "scrolled": true
   },
   "outputs": [],
   "source": [
    "from PIL import Image\n",
    "import os, glob\n",
    "import numpy as np\n",
    "from sklearn import model_selection\n",
    "\n",
    "classes = [\"60s vintage button shirt\", \"70s vintage button shirt\", \"80s vintage button shirt\"]\n",
    "num_classes = len(classes)\n",
    "image_size = 50\n",
    "\n",
    "# 画像の読み込み\n",
    "\n",
    "X = []\n",
    "Y = []\n",
    "for index, classlabel in enumerate(classes):\n",
    "        photos_dir = \"./\" + classlabel\n",
    "        files = glob.glob(photos_dir + \"/*.jpg\")\n",
    "        for i, file in enumerate(files):\n",
    "            if i >= 200: break\n",
    "            image = Image.open(file)\n",
    "            image = image.convert(\"RGB\")\n",
    "            image = image.resize((image_size, image_size))\n",
    "            data = np.asarray(image)\n",
    "            X.append(data)\n",
    "            Y.append(index)\n",
    "\n",
    "X = np.array(X)\n",
    "Y = np.array(Y)\n",
    "\n"
   ]
  },
  {
   "cell_type": "code",
   "execution_count": 29,
   "metadata": {},
   "outputs": [
    {
     "data": {
      "text/plain": [
       "array([[[252, 248, 247],\n",
       "        [252, 248, 247],\n",
       "        [252, 248, 247],\n",
       "        ...,\n",
       "        [251, 251, 251],\n",
       "        [244, 245, 237],\n",
       "        [251, 246, 240]],\n",
       "\n",
       "       [[252, 248, 247],\n",
       "        [252, 248, 247],\n",
       "        [252, 248, 247],\n",
       "        ...,\n",
       "        [255, 249, 255],\n",
       "        [255, 249, 251],\n",
       "        [254, 245, 246]],\n",
       "\n",
       "       [[252, 248, 247],\n",
       "        [252, 248, 247],\n",
       "        [252, 248, 247],\n",
       "        ...,\n",
       "        [252, 217, 211],\n",
       "        [255, 254, 255],\n",
       "        [252, 248, 249]],\n",
       "\n",
       "       ...,\n",
       "\n",
       "       [[252, 248, 247],\n",
       "        [252, 248, 247],\n",
       "        [252, 248, 247],\n",
       "        ...,\n",
       "        [252, 248, 247],\n",
       "        [254, 250, 249],\n",
       "        [252, 248, 247]],\n",
       "\n",
       "       [[252, 248, 247],\n",
       "        [252, 248, 247],\n",
       "        [252, 248, 247],\n",
       "        ...,\n",
       "        [252, 248, 247],\n",
       "        [252, 248, 247],\n",
       "        [252, 248, 247]],\n",
       "\n",
       "       [[252, 248, 247],\n",
       "        [252, 248, 247],\n",
       "        [252, 248, 247],\n",
       "        ...,\n",
       "        [252, 248, 247],\n",
       "        [252, 248, 247],\n",
       "        [252, 248, 247]]], dtype=uint8)"
      ]
     },
     "execution_count": 29,
     "metadata": {},
     "output_type": "execute_result"
    }
   ],
   "source": [
    "X[0]"
   ]
  },
  {
   "cell_type": "code",
   "execution_count": 30,
   "metadata": {},
   "outputs": [
    {
     "ename": "TypeError",
     "evalue": "'builtin_function_or_method' object is not subscriptable",
     "traceback": [
      "\u001b[0;31m---------------------------------------------------------------------------\u001b[0m",
      "\u001b[0;31mTypeError\u001b[0m                                 Traceback (most recent call last)",
      "\u001b[0;32m<ipython-input-30-a64de764f5f3>\u001b[0m in \u001b[0;36m<module>\u001b[0;34m\u001b[0m\n\u001b[0;32m----> 1\u001b[0;31m \u001b[0mlen\u001b[0m\u001b[0;34m[\u001b[0m\u001b[0mX\u001b[0m\u001b[0;34m]\u001b[0m\u001b[0;34m\u001b[0m\u001b[0;34m\u001b[0m\u001b[0m\n\u001b[0m",
      "\u001b[0;31mTypeError\u001b[0m: 'builtin_function_or_method' object is not subscriptable"
     ],
     "output_type": "error"
    }
   ],
   "source": [
    "len[X]"
   ]
  },
  {
   "cell_type": "code",
   "execution_count": 28,
   "metadata": {},
   "outputs": [
    {
     "data": {
      "text/plain": [
       "1"
      ]
     },
     "execution_count": 28,
     "metadata": {},
     "output_type": "execute_result"
    }
   ],
   "source": [
    "Y[88]"
   ]
  },
  {
   "cell_type": "code",
   "execution_count": null,
   "metadata": {},
   "outputs": [],
   "source": []
  }
 ],
 "metadata": {
  "kernelspec": {
   "display_name": "Python 3",
   "language": "python",
   "name": "python3"
  },
  "language_info": {
   "codemirror_mode": {
    "name": "ipython",
    "version": 3
   },
   "file_extension": ".py",
   "mimetype": "text/x-python",
   "name": "python",
   "nbconvert_exporter": "python",
   "pygments_lexer": "ipython3",
   "version": "3.6.7"
  }
 },
 "nbformat": 4,
 "nbformat_minor": 2
}
